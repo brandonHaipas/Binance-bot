{
 "cells": [
  {
   "cell_type": "markdown",
   "metadata": {},
   "source": [
    "# Data and model exploration"
   ]
  },
  {
   "cell_type": "markdown",
   "metadata": {},
   "source": [
    "In this notebook you will find information extracted from the historical data of binance, and how different models perform trading."
   ]
  },
  {
   "cell_type": "code",
   "execution_count": 12,
   "metadata": {},
   "outputs": [],
   "source": [
    "from binance.spot import Spot\n",
    "import pandas as pd\n",
    "from datetime import datetime\n",
    "# binance has a limit of 500 elements per call, so you can make calls per year in order to get more data.\n",
    "def get_historical_data(symbol, interval, start_date, end_date):\n",
    "    # Initialize the Spot client\n",
    "    client = Spot()\n",
    "    \n",
    "    # Convert date strings to milliseconds\n",
    "    start_date = int(datetime.strptime(start_date, \"%Y-%m-%d\").timestamp() * 1000)\n",
    "    end_date = int(datetime.strptime(end_date, \"%Y-%m-%d\").timestamp() * 1000)\n",
    "    \n",
    "    # Fetch the historical klines (candlestick data)\n",
    "    klines = client.klines(symbol=symbol, interval=interval, startTime=start_date, endTime=end_date)\n",
    "    \n",
    "    # Convert to DataFrame\n",
    "    df = pd.DataFrame(klines, columns=['timestamp', 'open', 'high', 'low', 'close', 'volume', 'close_time', 'quote_asset_volume', 'number_of_trades', 'taker_buy_base_asset_volume', 'taker_buy_quote_asset_volume', 'ignore'])\n",
    "    \n",
    "    # Convert timestamp to datetime\n",
    "    df['timestamp'] = pd.to_datetime(df['timestamp'], unit='ms')\n",
    "    \n",
    "    # Set timestamp as index\n",
    "    df.set_index('timestamp', inplace=True)\n",
    "    \n",
    "    # Convert numeric columns to appropriate types\n",
    "    numeric_columns = ['open', 'high', 'low', 'close', 'volume', 'quote_asset_volume', 'taker_buy_base_asset_volume', 'taker_buy_quote_asset_volume']\n",
    "    df[numeric_columns] = df[numeric_columns].apply(pd.to_numeric, axis=1)\n",
    "    \n",
    "    return df\n",
    "\n",
    "# Example usage\n",
    "symbol = 'BTCUSDT'\n",
    "interval = '1d'  # 1 hour interval\n",
    "start_date = '2022-01-01'\n",
    "end_date = '2023-12-31'\n",
    "\n",
    "df = get_historical_data(symbol, interval, start_date, end_date)"
   ]
  },
  {
   "cell_type": "code",
   "execution_count": 13,
   "metadata": {},
   "outputs": [
    {
     "data": {
      "text/html": [
       "<div>\n",
       "<style scoped>\n",
       "    .dataframe tbody tr th:only-of-type {\n",
       "        vertical-align: middle;\n",
       "    }\n",
       "\n",
       "    .dataframe tbody tr th {\n",
       "        vertical-align: top;\n",
       "    }\n",
       "\n",
       "    .dataframe thead th {\n",
       "        text-align: right;\n",
       "    }\n",
       "</style>\n",
       "<table border=\"1\" class=\"dataframe\">\n",
       "  <thead>\n",
       "    <tr style=\"text-align: right;\">\n",
       "      <th></th>\n",
       "      <th>open</th>\n",
       "      <th>high</th>\n",
       "      <th>low</th>\n",
       "      <th>close</th>\n",
       "      <th>volume</th>\n",
       "      <th>close_time</th>\n",
       "      <th>quote_asset_volume</th>\n",
       "      <th>number_of_trades</th>\n",
       "      <th>taker_buy_base_asset_volume</th>\n",
       "      <th>taker_buy_quote_asset_volume</th>\n",
       "      <th>ignore</th>\n",
       "    </tr>\n",
       "    <tr>\n",
       "      <th>timestamp</th>\n",
       "      <th></th>\n",
       "      <th></th>\n",
       "      <th></th>\n",
       "      <th></th>\n",
       "      <th></th>\n",
       "      <th></th>\n",
       "      <th></th>\n",
       "      <th></th>\n",
       "      <th></th>\n",
       "      <th></th>\n",
       "      <th></th>\n",
       "    </tr>\n",
       "  </thead>\n",
       "  <tbody>\n",
       "    <tr>\n",
       "      <th>2022-01-02</th>\n",
       "      <td>47722.66</td>\n",
       "      <td>47990.00</td>\n",
       "      <td>46654.00</td>\n",
       "      <td>47286.18</td>\n",
       "      <td>18340.46040</td>\n",
       "      <td>1641167999999</td>\n",
       "      <td>8.666110e+08</td>\n",
       "      <td>709624</td>\n",
       "      <td>9166.46954</td>\n",
       "      <td>4.331824e+08</td>\n",
       "      <td>0</td>\n",
       "    </tr>\n",
       "    <tr>\n",
       "      <th>2022-01-03</th>\n",
       "      <td>47286.18</td>\n",
       "      <td>47570.00</td>\n",
       "      <td>45696.00</td>\n",
       "      <td>46446.10</td>\n",
       "      <td>27662.07710</td>\n",
       "      <td>1641254399999</td>\n",
       "      <td>1.292204e+09</td>\n",
       "      <td>885624</td>\n",
       "      <td>13524.76045</td>\n",
       "      <td>6.318794e+08</td>\n",
       "      <td>0</td>\n",
       "    </tr>\n",
       "    <tr>\n",
       "      <th>2022-01-04</th>\n",
       "      <td>46446.10</td>\n",
       "      <td>47557.54</td>\n",
       "      <td>45500.00</td>\n",
       "      <td>45832.01</td>\n",
       "      <td>35491.41360</td>\n",
       "      <td>1641340799999</td>\n",
       "      <td>1.649170e+09</td>\n",
       "      <td>1021815</td>\n",
       "      <td>17689.26808</td>\n",
       "      <td>8.217255e+08</td>\n",
       "      <td>0</td>\n",
       "    </tr>\n",
       "    <tr>\n",
       "      <th>2022-01-05</th>\n",
       "      <td>45832.01</td>\n",
       "      <td>47070.00</td>\n",
       "      <td>42500.00</td>\n",
       "      <td>43451.13</td>\n",
       "      <td>51784.11857</td>\n",
       "      <td>1641427199999</td>\n",
       "      <td>2.334289e+09</td>\n",
       "      <td>1478532</td>\n",
       "      <td>23552.99460</td>\n",
       "      <td>1.063287e+09</td>\n",
       "      <td>0</td>\n",
       "    </tr>\n",
       "    <tr>\n",
       "      <th>2022-01-06</th>\n",
       "      <td>43451.14</td>\n",
       "      <td>43816.00</td>\n",
       "      <td>42430.58</td>\n",
       "      <td>43082.31</td>\n",
       "      <td>38880.37305</td>\n",
       "      <td>1641513599999</td>\n",
       "      <td>1.674466e+09</td>\n",
       "      <td>1150707</td>\n",
       "      <td>19268.82662</td>\n",
       "      <td>8.298866e+08</td>\n",
       "      <td>0</td>\n",
       "    </tr>\n",
       "  </tbody>\n",
       "</table>\n",
       "</div>"
      ],
      "text/plain": [
       "                open      high       low     close       volume  \\\n",
       "timestamp                                                         \n",
       "2022-01-02  47722.66  47990.00  46654.00  47286.18  18340.46040   \n",
       "2022-01-03  47286.18  47570.00  45696.00  46446.10  27662.07710   \n",
       "2022-01-04  46446.10  47557.54  45500.00  45832.01  35491.41360   \n",
       "2022-01-05  45832.01  47070.00  42500.00  43451.13  51784.11857   \n",
       "2022-01-06  43451.14  43816.00  42430.58  43082.31  38880.37305   \n",
       "\n",
       "               close_time  quote_asset_volume  number_of_trades  \\\n",
       "timestamp                                                         \n",
       "2022-01-02  1641167999999        8.666110e+08            709624   \n",
       "2022-01-03  1641254399999        1.292204e+09            885624   \n",
       "2022-01-04  1641340799999        1.649170e+09           1021815   \n",
       "2022-01-05  1641427199999        2.334289e+09           1478532   \n",
       "2022-01-06  1641513599999        1.674466e+09           1150707   \n",
       "\n",
       "            taker_buy_base_asset_volume  taker_buy_quote_asset_volume ignore  \n",
       "timestamp                                                                     \n",
       "2022-01-02                   9166.46954                  4.331824e+08      0  \n",
       "2022-01-03                  13524.76045                  6.318794e+08      0  \n",
       "2022-01-04                  17689.26808                  8.217255e+08      0  \n",
       "2022-01-05                  23552.99460                  1.063287e+09      0  \n",
       "2022-01-06                  19268.82662                  8.298866e+08      0  "
      ]
     },
     "execution_count": 13,
     "metadata": {},
     "output_type": "execute_result"
    }
   ],
   "source": [
    "df.head()"
   ]
  },
  {
   "cell_type": "code",
   "execution_count": 14,
   "metadata": {},
   "outputs": [
    {
     "data": {
      "text/plain": [
       "(500, 11)"
      ]
     },
     "execution_count": 14,
     "metadata": {},
     "output_type": "execute_result"
    }
   ],
   "source": [
    "df.shape"
   ]
  },
  {
   "cell_type": "code",
   "execution_count": 15,
   "metadata": {},
   "outputs": [
    {
     "data": {
      "text/plain": [
       "['open',\n",
       " 'high',\n",
       " 'low',\n",
       " 'close',\n",
       " 'volume',\n",
       " 'close_time',\n",
       " 'quote_asset_volume',\n",
       " 'number_of_trades',\n",
       " 'taker_buy_base_asset_volume',\n",
       " 'taker_buy_quote_asset_volume',\n",
       " 'ignore']"
      ]
     },
     "execution_count": 15,
     "metadata": {},
     "output_type": "execute_result"
    }
   ],
   "source": [
    "df.columns.tolist()"
   ]
  },
  {
   "cell_type": "code",
   "execution_count": 16,
   "metadata": {},
   "outputs": [
    {
     "data": {
      "text/plain": [
       "ignore\n",
       "0    500\n",
       "Name: count, dtype: int64"
      ]
     },
     "execution_count": 16,
     "metadata": {},
     "output_type": "execute_result"
    }
   ],
   "source": [
    "df['ignore'].value_counts()"
   ]
  },
  {
   "cell_type": "markdown",
   "metadata": {},
   "source": [
    "**Ideas to complement the dataset**: \n",
    "- Make more calls to the API in order to get more information of past transactions.\n",
    "- Include information of stocks in the same period and include some data about the sentiment about crypto currencies at the moment.\n",
    "- Include information about the economy in general, try to get a reliable source of data that can be contrasted with daily.\n",
    "- Include information about trading between other crypto currencies beside bitcoin, like ethereum, worldcoin, etc."
   ]
  },
  {
   "cell_type": "code",
   "execution_count": 17,
   "metadata": {},
   "outputs": [
    {
     "name": "stderr",
     "output_type": "stream",
     "text": [
      "[*********************100%%**********************]  1 of 1 completed\n"
     ]
    },
    {
     "data": {
      "text/html": [
       "<div>\n",
       "<style scoped>\n",
       "    .dataframe tbody tr th:only-of-type {\n",
       "        vertical-align: middle;\n",
       "    }\n",
       "\n",
       "    .dataframe tbody tr th {\n",
       "        vertical-align: top;\n",
       "    }\n",
       "\n",
       "    .dataframe thead th {\n",
       "        text-align: right;\n",
       "    }\n",
       "</style>\n",
       "<table border=\"1\" class=\"dataframe\">\n",
       "  <thead>\n",
       "    <tr style=\"text-align: right;\">\n",
       "      <th></th>\n",
       "      <th>Open</th>\n",
       "      <th>High</th>\n",
       "      <th>Low</th>\n",
       "      <th>Close</th>\n",
       "      <th>Adj Close</th>\n",
       "      <th>Volume</th>\n",
       "    </tr>\n",
       "    <tr>\n",
       "      <th>Date</th>\n",
       "      <th></th>\n",
       "      <th></th>\n",
       "      <th></th>\n",
       "      <th></th>\n",
       "      <th></th>\n",
       "      <th></th>\n",
       "    </tr>\n",
       "  </thead>\n",
       "  <tbody>\n",
       "    <tr>\n",
       "      <th>2023-12-22</th>\n",
       "      <td>153.770004</td>\n",
       "      <td>154.350006</td>\n",
       "      <td>152.710007</td>\n",
       "      <td>153.419998</td>\n",
       "      <td>153.419998</td>\n",
       "      <td>29480100</td>\n",
       "    </tr>\n",
       "    <tr>\n",
       "      <th>2023-12-26</th>\n",
       "      <td>153.559998</td>\n",
       "      <td>153.979996</td>\n",
       "      <td>153.029999</td>\n",
       "      <td>153.410004</td>\n",
       "      <td>153.410004</td>\n",
       "      <td>25067200</td>\n",
       "    </tr>\n",
       "    <tr>\n",
       "      <th>2023-12-27</th>\n",
       "      <td>153.559998</td>\n",
       "      <td>154.779999</td>\n",
       "      <td>153.119995</td>\n",
       "      <td>153.339996</td>\n",
       "      <td>153.339996</td>\n",
       "      <td>31434700</td>\n",
       "    </tr>\n",
       "    <tr>\n",
       "      <th>2023-12-28</th>\n",
       "      <td>153.720001</td>\n",
       "      <td>154.080002</td>\n",
       "      <td>152.949997</td>\n",
       "      <td>153.380005</td>\n",
       "      <td>153.380005</td>\n",
       "      <td>27057000</td>\n",
       "    </tr>\n",
       "    <tr>\n",
       "      <th>2023-12-29</th>\n",
       "      <td>153.100006</td>\n",
       "      <td>153.889999</td>\n",
       "      <td>151.029999</td>\n",
       "      <td>151.940002</td>\n",
       "      <td>151.940002</td>\n",
       "      <td>39789000</td>\n",
       "    </tr>\n",
       "  </tbody>\n",
       "</table>\n",
       "</div>"
      ],
      "text/plain": [
       "                  Open        High         Low       Close   Adj Close  \\\n",
       "Date                                                                     \n",
       "2023-12-22  153.770004  154.350006  152.710007  153.419998  153.419998   \n",
       "2023-12-26  153.559998  153.979996  153.029999  153.410004  153.410004   \n",
       "2023-12-27  153.559998  154.779999  153.119995  153.339996  153.339996   \n",
       "2023-12-28  153.720001  154.080002  152.949997  153.380005  153.380005   \n",
       "2023-12-29  153.100006  153.889999  151.029999  151.940002  151.940002   \n",
       "\n",
       "              Volume  \n",
       "Date                  \n",
       "2023-12-22  29480100  \n",
       "2023-12-26  25067200  \n",
       "2023-12-27  31434700  \n",
       "2023-12-28  27057000  \n",
       "2023-12-29  39789000  "
      ]
     },
     "execution_count": 17,
     "metadata": {},
     "output_type": "execute_result"
    }
   ],
   "source": [
    "# collect information about stocks of desired assets\n",
    "\n",
    "import yfinance as yf\n",
    "\n",
    "# set the ticker\n",
    "ticker = 'AMZN'\n",
    "\n",
    "amzn_data = yf.download(ticker, start_date, end_date)\n",
    "\n",
    "amzn_data.tail()"
   ]
  },
  {
   "cell_type": "code",
   "execution_count": 18,
   "metadata": {},
   "outputs": [
    {
     "data": {
      "text/plain": [
       "(501, 6)"
      ]
     },
     "execution_count": 18,
     "metadata": {},
     "output_type": "execute_result"
    }
   ],
   "source": [
    "# yahoo finance has the same problem, it can only get 500 elements in one API call. \n",
    "# The next step will be to try making more calls for different years.\n",
    "amzn_data.shape"
   ]
  },
  {
   "cell_type": "markdown",
   "metadata": {},
   "source": [
    "Another idea for capturing the sentiment for bitcoin is to use selenium to scrap data from the fear/greed historical records in [coincodex](https://coincodex.com/sentiment/).\n",
    "Another source for daily updates on fear and greed data is [alternative.me](https://alternative.me/crypto/fear-and-greed-index/#api), this site has data from 2018 to the last available date (today)."
   ]
  }
 ],
 "metadata": {
  "kernelspec": {
   "display_name": "sklearn-mooc-env",
   "language": "python",
   "name": "python3"
  },
  "language_info": {
   "codemirror_mode": {
    "name": "ipython",
    "version": 3
   },
   "file_extension": ".py",
   "mimetype": "text/x-python",
   "name": "python",
   "nbconvert_exporter": "python",
   "pygments_lexer": "ipython3",
   "version": "3.11.7"
  }
 },
 "nbformat": 4,
 "nbformat_minor": 2
}
