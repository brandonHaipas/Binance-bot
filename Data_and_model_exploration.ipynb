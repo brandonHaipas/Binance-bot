{
 "cells": [
  {
   "cell_type": "markdown",
   "metadata": {},
   "source": [
    "# Data and model exploration"
   ]
  },
  {
   "cell_type": "markdown",
   "metadata": {},
   "source": [
    "In this notebook you will find information extracted from the historical data of binance, and how different models perform trading."
   ]
  },
  {
   "cell_type": "code",
   "execution_count": 10,
   "metadata": {},
   "outputs": [],
   "source": [
    "from binance.spot import Spot\n",
    "import pandas as pd\n",
    "from datetime import datetime\n",
    "\n",
    "def get_historical_data(symbol, interval, start_date, end_date):\n",
    "    # Initialize the Spot client\n",
    "    client = Spot()\n",
    "    \n",
    "    # Convert date strings to milliseconds\n",
    "    start_date = int(datetime.strptime(start_date, \"%Y-%m-%d\").timestamp() * 1000)\n",
    "    end_date = int(datetime.strptime(end_date, \"%Y-%m-%d\").timestamp() * 1000)\n",
    "    \n",
    "    # Fetch the historical klines (candlestick data)\n",
    "    klines = client.klines(symbol=symbol, interval=interval, startTime=start_date, endTime=end_date)\n",
    "    \n",
    "    # Convert to DataFrame\n",
    "    df = pd.DataFrame(klines, columns=['timestamp', 'open', 'high', 'low', 'close', 'volume', 'close_time', 'quote_asset_volume', 'number_of_trades', 'taker_buy_base_asset_volume', 'taker_buy_quote_asset_volume', 'ignore'])\n",
    "    \n",
    "    # Convert timestamp to datetime\n",
    "    df['timestamp'] = pd.to_datetime(df['timestamp'], unit='ms')\n",
    "    \n",
    "    # Set timestamp as index\n",
    "    df.set_index('timestamp', inplace=True)\n",
    "    \n",
    "    # Convert numeric columns to appropriate types\n",
    "    numeric_columns = ['open', 'high', 'low', 'close', 'volume', 'quote_asset_volume', 'taker_buy_base_asset_volume', 'taker_buy_quote_asset_volume']\n",
    "    df[numeric_columns] = df[numeric_columns].apply(pd.to_numeric, axis=1)\n",
    "    \n",
    "    return df\n",
    "\n",
    "# Example usage\n",
    "symbol = 'BTCUSDT'\n",
    "interval = '1h'  # 1 hour interval\n",
    "start_date = '2022-01-01'\n",
    "end_date = '2023-12-31'\n",
    "\n",
    "df = get_historical_data(symbol, interval, start_date, end_date)"
   ]
  },
  {
   "cell_type": "code",
   "execution_count": 11,
   "metadata": {},
   "outputs": [
    {
     "data": {
      "text/html": [
       "<div>\n",
       "<style scoped>\n",
       "    .dataframe tbody tr th:only-of-type {\n",
       "        vertical-align: middle;\n",
       "    }\n",
       "\n",
       "    .dataframe tbody tr th {\n",
       "        vertical-align: top;\n",
       "    }\n",
       "\n",
       "    .dataframe thead th {\n",
       "        text-align: right;\n",
       "    }\n",
       "</style>\n",
       "<table border=\"1\" class=\"dataframe\">\n",
       "  <thead>\n",
       "    <tr style=\"text-align: right;\">\n",
       "      <th></th>\n",
       "      <th>open</th>\n",
       "      <th>high</th>\n",
       "      <th>low</th>\n",
       "      <th>close</th>\n",
       "      <th>volume</th>\n",
       "      <th>close_time</th>\n",
       "      <th>quote_asset_volume</th>\n",
       "      <th>number_of_trades</th>\n",
       "      <th>taker_buy_base_asset_volume</th>\n",
       "      <th>taker_buy_quote_asset_volume</th>\n",
       "      <th>ignore</th>\n",
       "    </tr>\n",
       "    <tr>\n",
       "      <th>timestamp</th>\n",
       "      <th></th>\n",
       "      <th></th>\n",
       "      <th></th>\n",
       "      <th></th>\n",
       "      <th></th>\n",
       "      <th></th>\n",
       "      <th></th>\n",
       "      <th></th>\n",
       "      <th></th>\n",
       "      <th></th>\n",
       "      <th></th>\n",
       "    </tr>\n",
       "  </thead>\n",
       "  <tbody>\n",
       "    <tr>\n",
       "      <th>2022-01-01 03:00:00</th>\n",
       "      <td>46811.77</td>\n",
       "      <td>46916.63</td>\n",
       "      <td>46760.12</td>\n",
       "      <td>46813.20</td>\n",
       "      <td>562.88971</td>\n",
       "      <td>1641009599999</td>\n",
       "      <td>2.636326e+07</td>\n",
       "      <td>19882</td>\n",
       "      <td>248.28212</td>\n",
       "      <td>1.162938e+07</td>\n",
       "      <td>0</td>\n",
       "    </tr>\n",
       "    <tr>\n",
       "      <th>2022-01-01 04:00:00</th>\n",
       "      <td>46813.21</td>\n",
       "      <td>46887.33</td>\n",
       "      <td>46591.23</td>\n",
       "      <td>46711.05</td>\n",
       "      <td>861.88389</td>\n",
       "      <td>1641013199999</td>\n",
       "      <td>4.027204e+07</td>\n",
       "      <td>23357</td>\n",
       "      <td>397.53563</td>\n",
       "      <td>1.857540e+07</td>\n",
       "      <td>0</td>\n",
       "    </tr>\n",
       "    <tr>\n",
       "      <th>2022-01-01 05:00:00</th>\n",
       "      <td>46711.05</td>\n",
       "      <td>47555.55</td>\n",
       "      <td>46673.94</td>\n",
       "      <td>47192.55</td>\n",
       "      <td>1400.73642</td>\n",
       "      <td>1641016799999</td>\n",
       "      <td>6.618831e+07</td>\n",
       "      <td>41431</td>\n",
       "      <td>776.78632</td>\n",
       "      <td>3.669532e+07</td>\n",
       "      <td>0</td>\n",
       "    </tr>\n",
       "    <tr>\n",
       "      <th>2022-01-01 06:00:00</th>\n",
       "      <td>47192.56</td>\n",
       "      <td>47324.42</td>\n",
       "      <td>46940.00</td>\n",
       "      <td>46979.62</td>\n",
       "      <td>613.97776</td>\n",
       "      <td>1641020399999</td>\n",
       "      <td>2.894149e+07</td>\n",
       "      <td>25196</td>\n",
       "      <td>299.44097</td>\n",
       "      <td>1.411607e+07</td>\n",
       "      <td>0</td>\n",
       "    </tr>\n",
       "    <tr>\n",
       "      <th>2022-01-01 07:00:00</th>\n",
       "      <td>46979.61</td>\n",
       "      <td>47255.85</td>\n",
       "      <td>46864.84</td>\n",
       "      <td>47194.73</td>\n",
       "      <td>646.20081</td>\n",
       "      <td>1641023999999</td>\n",
       "      <td>3.039987e+07</td>\n",
       "      <td>25166</td>\n",
       "      <td>290.68371</td>\n",
       "      <td>1.367629e+07</td>\n",
       "      <td>0</td>\n",
       "    </tr>\n",
       "  </tbody>\n",
       "</table>\n",
       "</div>"
      ],
      "text/plain": [
       "                         open      high       low     close      volume  \\\n",
       "timestamp                                                                 \n",
       "2022-01-01 03:00:00  46811.77  46916.63  46760.12  46813.20   562.88971   \n",
       "2022-01-01 04:00:00  46813.21  46887.33  46591.23  46711.05   861.88389   \n",
       "2022-01-01 05:00:00  46711.05  47555.55  46673.94  47192.55  1400.73642   \n",
       "2022-01-01 06:00:00  47192.56  47324.42  46940.00  46979.62   613.97776   \n",
       "2022-01-01 07:00:00  46979.61  47255.85  46864.84  47194.73   646.20081   \n",
       "\n",
       "                        close_time  quote_asset_volume  number_of_trades  \\\n",
       "timestamp                                                                  \n",
       "2022-01-01 03:00:00  1641009599999        2.636326e+07             19882   \n",
       "2022-01-01 04:00:00  1641013199999        4.027204e+07             23357   \n",
       "2022-01-01 05:00:00  1641016799999        6.618831e+07             41431   \n",
       "2022-01-01 06:00:00  1641020399999        2.894149e+07             25196   \n",
       "2022-01-01 07:00:00  1641023999999        3.039987e+07             25166   \n",
       "\n",
       "                     taker_buy_base_asset_volume  \\\n",
       "timestamp                                          \n",
       "2022-01-01 03:00:00                    248.28212   \n",
       "2022-01-01 04:00:00                    397.53563   \n",
       "2022-01-01 05:00:00                    776.78632   \n",
       "2022-01-01 06:00:00                    299.44097   \n",
       "2022-01-01 07:00:00                    290.68371   \n",
       "\n",
       "                     taker_buy_quote_asset_volume ignore  \n",
       "timestamp                                                 \n",
       "2022-01-01 03:00:00                  1.162938e+07      0  \n",
       "2022-01-01 04:00:00                  1.857540e+07      0  \n",
       "2022-01-01 05:00:00                  3.669532e+07      0  \n",
       "2022-01-01 06:00:00                  1.411607e+07      0  \n",
       "2022-01-01 07:00:00                  1.367629e+07      0  "
      ]
     },
     "execution_count": 11,
     "metadata": {},
     "output_type": "execute_result"
    }
   ],
   "source": [
    "df.head()"
   ]
  },
  {
   "cell_type": "code",
   "execution_count": 12,
   "metadata": {},
   "outputs": [
    {
     "data": {
      "text/plain": [
       "(500, 11)"
      ]
     },
     "execution_count": 12,
     "metadata": {},
     "output_type": "execute_result"
    }
   ],
   "source": [
    "df.shape"
   ]
  },
  {
   "cell_type": "code",
   "execution_count": 14,
   "metadata": {},
   "outputs": [
    {
     "data": {
      "text/plain": [
       "['open',\n",
       " 'high',\n",
       " 'low',\n",
       " 'close',\n",
       " 'volume',\n",
       " 'close_time',\n",
       " 'quote_asset_volume',\n",
       " 'number_of_trades',\n",
       " 'taker_buy_base_asset_volume',\n",
       " 'taker_buy_quote_asset_volume',\n",
       " 'ignore']"
      ]
     },
     "execution_count": 14,
     "metadata": {},
     "output_type": "execute_result"
    }
   ],
   "source": [
    "df.columns.tolist()"
   ]
  },
  {
   "cell_type": "code",
   "execution_count": 13,
   "metadata": {},
   "outputs": [
    {
     "data": {
      "text/plain": [
       "ignore\n",
       "0    500\n",
       "Name: count, dtype: int64"
      ]
     },
     "execution_count": 13,
     "metadata": {},
     "output_type": "execute_result"
    }
   ],
   "source": [
    "df['ignore'].value_counts()"
   ]
  }
 ],
 "metadata": {
  "kernelspec": {
   "display_name": "sklearn-mooc-env",
   "language": "python",
   "name": "python3"
  },
  "language_info": {
   "codemirror_mode": {
    "name": "ipython",
    "version": 3
   },
   "file_extension": ".py",
   "mimetype": "text/x-python",
   "name": "python",
   "nbconvert_exporter": "python",
   "pygments_lexer": "ipython3",
   "version": "3.11.7"
  }
 },
 "nbformat": 4,
 "nbformat_minor": 2
}
